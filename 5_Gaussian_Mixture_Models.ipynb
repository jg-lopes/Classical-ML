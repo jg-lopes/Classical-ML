{
 "cells": [
  {
   "cell_type": "markdown",
   "metadata": {},
   "source": [
    "# Lab session : Mixture Models"
   ]
  },
  {
   "cell_type": "markdown",
   "metadata": {},
   "source": [
    "The goal of this lab session is to study mixture models. In the first part you will code the EM algorithm to estimate the parameters of a GMM given the number of mixed distributions and in the second part you will apply sklearn's EM on images. You will send only one notebook for both parts.\n",
    "\n",
    "You have to send the filled notebook named **\"GMM_familyname1_familyname2.ipynb\"** (groups of 2) by email to *lucca.guardiola@centralesupelec.fr* by November 19, 2020 and put **\"AML-GMM\"** in the subject. \n",
    "\n",
    "We begin with the standard imports:"
   ]
  },
  {
   "cell_type": "code",
   "execution_count": 86,
   "metadata": {},
   "outputs": [],
   "source": [
    "import numpy as np\n",
    "import matplotlib.pyplot as plt\n",
    "import seaborn as sns\n",
    "%matplotlib inline\n",
    "sns.set_context('poster')\n",
    "sns.set_color_codes()\n",
    "plot_kwds = {'alpha' : 0.25, 's' : 80, 'linewidths':0}\n",
    "from scipy.stats import norm\n",
    "from sklearn.cluster import KMeans\n",
    "import random\n",
    "from itertools import compress"
   ]
  },
  {
   "cell_type": "markdown",
   "metadata": {},
   "source": [
    "# GMM Recap"
   ]
  },
  {
   "cell_type": "markdown",
   "metadata": {},
   "source": [
    "A Gaussian mixture model is a probabilistic model that assumes all the data points are generated from a mixture of a finite number of Gaussian distributions with unknown parameters. After estimation of those parameters we get an estimation of the distribution of our data. \n",
    "\n",
    "### If you want to directly go into the code skip the 2 following sections and implement the Update rules\n",
    "\n",
    "## Context\n",
    "\n",
    "Let $X$ be a continous random variable that you have observed, it would be nice to estimate the parameters $\\theta$ of the theoretical pdf of x i.e $f_X(x;\\theta) = p(x|\\theta)$. For instance $\\theta$ could be a mean or a variance or $f_x$ could be parametrized by many other parameters. To facilitate the estimation of $\\theta$ one could introduces latent variables or hidden variables $Y$ which explains X. \n",
    "\n",
    "Introducing a latent variable Y which can take K different values one could write $p(x|\\theta)$ as a mixture of K distributions : \n",
    "$$ p(x|\\theta) = \\sum_{k=1}^Kp(x,y=y_k|\\theta)=\\sum_{k=1}^K p(y=y_k|\\theta)p(x|y=y_k,\\theta)= \\sum_{k=1}^K \\pi_kf_k(x;\\theta_k) $$\n",
    "\n",
    "## Basic Exemple \n",
    "\n",
    "Imagine you are observing the weight of the french population, and you want the theoretical distribution of the weight $f_X(x;\\theta)$. You could introduce the sex of the person (discrete latent variable) or the height of the person (continuous latent variable), these 2 latent variables have a deep impact on the weight of the person. We will be looking at the case where Y is discrete.\n",
    "\n",
    "Let X be the random variable related to the weight of a french person and Y be the sex of the person the pdf of X is given by : \n",
    "\n",
    "$$p(x|\\theta) = \\pi f_1(x)+(1-\\pi)f_2(x)$$\n",
    "\n",
    "$\\pi$ is probability to be a man in France, $f_1(x)$ and $f_2(x) $ are respectively the density function of the men's weight and the pdf of the women's weight.\n",
    "\n",
    "Now we have to estimate $\\pi$ and the parameters of $f_1(x)$ and of $f_2(x)$. \n",
    "\n",
    "With GMM we assume that $f_k(x;\\theta_k)= \\mathcal{N}(x |\\mu_k,\\sigma_k^2)$. Therefore we need to estimate from the observation of X : $\\pi,\\mu_1,\\sigma_1^2,\\mu_2,\\sigma_2^2$ such as :\n",
    "\n",
    "$$p(x|\\theta) = \\pi \\mathcal{N}(x |\\mu_1,\\sigma_1^2)+(1-\\pi)\\mathcal{N}(x |\\mu_2,\\sigma_2^2) $$\n",
    "\n",
    "\n"
   ]
  },
  {
   "cell_type": "markdown",
   "metadata": {},
   "source": [
    "We generate a fake weight distribution. The EM algorithm will allow us to estimate the parameters of this probability distribution."
   ]
  },
  {
   "cell_type": "code",
   "execution_count": 87,
   "metadata": {},
   "outputs": [
    {
     "data": {
      "text/plain": [
       "<matplotlib.axes._subplots.AxesSubplot at 0x21d0b08e288>"
      ]
     },
     "execution_count": 87,
     "metadata": {},
     "output_type": "execute_result"
    },
    {
     "data": {
      "image/png": "[encoded data removed]",
      "text/plain": [
       "<Figure size 432x288 with 1 Axes>"
      ]
     },
     "metadata": {
      "needs_background": "light"
     },
     "output_type": "display_data"
    }
   ],
   "source": [
    "weights = np.append(np.random.normal(60,7,1000),np.random.normal(79,12,1000))\n",
    "sex = [0 for k in range(1000)]+[1 for k in range(1000)]\n",
    "sns.distplot(weights)"
   ]
  },
  {
   "cell_type": "markdown",
   "metadata": {},
   "source": [
    "\n",
    "# EM algorithm \n",
    "\n",
    "Em algorithm looks for the parameters $\\theta$ maximising :\n",
    "\n",
    "$$E\\left[\\mathcal{L}(X_1,...X_N,Y_1,...,Y_N|\\theta)|x_1,...x_N,\\theta_j\\right]= \\sum_{i=1}^n \\sum_{k=1}^K  \\gamma_{i,k}^j \\left[ \\log(\\pi_k) + \\log \\mathcal{N}(x |\\mu_k,\\sigma_k^2) \\right] == Q(\\theta,\\theta^j)$$ \n",
    "\n",
    "## Update Rules \n",
    "\n",
    "Suppose you decide to model your observations $\\{x_1,...x_N\\}$ with a mixture of K gaussian distributions.\n",
    "\n",
    "The update rules given by the EM algorithm are at iteration j+1, $k \\in \\{1,...,K\\}$ : \n",
    "\n",
    "\\begin{align} \\gamma_{i,k}^j &= \\frac{\\pi_k^jf_k(x_i;\\theta_k^j)}{\\sum_{k=1}^K\\pi_k^jf_k(x_i;\\theta_k^j)} \\\\\n",
    "\\pi_k^{j+1} &= \\frac{1}{N} \\sum_{i=1}^N \\gamma_{i,k}^j \\\\\n",
    " (\\sigma_k^2)^{j+1}&= \\frac{\\sum_{i=1}^N (x_i-\\mu_k^j)^2\\gamma_{i,k}^j}{\\sum_{i=1}^N \\gamma_{i,k}^j} \\\\\n",
    "\\mu_k^{j+1}  &= \\frac{\\sum_{i=1}^N x_i\\gamma_{i,k}^j}{\\sum_{i=1}^N \\gamma_{i,k}^j}\n",
    "\\end{align}\n",
    "\n",
    "With $\\gamma_{i,k}^j = P(Y_i=k|x_i,\\theta^j)$ i.e the probability of the data $x_i$ to belong to the class k.\n",
    "\n",
    "With $f_k(x_i;\\theta_k^j) = \\mathcal{N}\\left(x_i | \\mu_k^{j} , (\\sigma_k^2)^{j}\\right) $\n",
    "\n",
    "# Task :\n",
    "\n",
    "- Fill in the following class to implement a 1D-GMM \n",
    "- Initialize with Kmeans or with random parameters."
   ]
  },
  {
   "cell_type": "code",
   "execution_count": 88,
   "metadata": {},
   "outputs": [],
   "source": [
    "class my_GMM():\n",
    "    \n",
    "    def __init__(self, k, nb_iter,initialization):\n",
    "        '''\n",
    "        Attributes:\n",
    "        \n",
    "        k_: integer\n",
    "            number of components\n",
    "        initialization_: {\"kmeans\", \"random\"}\n",
    "            type of initialization\n",
    "        mu_: np.array\n",
    "            array containing means\n",
    "        Sigma_: np.array\n",
    "            array cointaining covariance matrix\n",
    "        cond_prob_: (n, K) np.array\n",
    "            conditional probabilities for all data points \n",
    "        labels_: (n, ) np.array\n",
    "            labels for data points\n",
    "        '''\n",
    "        self.nb_iter_=nb_iter\n",
    "        self.k_ = k\n",
    "        self.initialization_ = initialization\n",
    "        self.mu_ = None\n",
    "        self.sigma_ = None\n",
    "        self.pi_ = None\n",
    "        self.gamma_ = None\n",
    "        self.labels_ = None\n",
    "        \n",
    "    def fit(self, X):\n",
    "        \"\"\" Find the parameters mu_ and Sigma_\n",
    "        that better fit the data\n",
    "        \n",
    "        Parameters:\n",
    "        -----------\n",
    "        X: (n, p) np.array\n",
    "            Data matrix\n",
    "        \n",
    "        \"\"\"\n",
    "        \n",
    "        def compute_condition_prob_matrix(X, mu, Sigma):\n",
    "            \n",
    "            '''Compute the conditional probability matrix \n",
    "            shape: (n, K) i.e p(x|y=k). Use scipy.stats.norm.pdf\n",
    "            '''\n",
    "            condition_prob = [] #the n x K matrix\n",
    "            \n",
    "            for x in X:\n",
    "                #for each observation\n",
    "                prob_classes = [] #one line in the data matrix X\n",
    "                for i in range(self.k_):\n",
    "                    proba = norm.pdf(x,mu[i],np.sqrt(Sigma[i])) #we compute proba of x belonging to f_k\n",
    "                    prob_classes.append(proba)\n",
    "                condition_prob.append(prob_classes)\n",
    "            return condition_prob\n",
    "            \n",
    "        \n",
    "        def compute_responsabilities(Condition_prob,pi):\n",
    "            \n",
    "            \n",
    "            '''Compute the responsabilities i.e gamma\n",
    "            shape: (n, K)\n",
    "            '''\n",
    "            gamma = []\n",
    "            \n",
    "            for i in range(len(X)):\n",
    "                #for each observation\n",
    "                responsabilities = []\n",
    "                sum_cond_proba = 0\n",
    "                for j in range(self.k_):\n",
    "                    #we compute the total sum of conditional probabilities for that specific x\n",
    "                    sum_cond_proba+=pi[j]*Condition_prob[i][j]\n",
    "                \n",
    "                for j in range(self.k_):\n",
    "                    #we compute the responsability of each class for that specific x\n",
    "                    responsabilities.append((pi[j]*Condition_prob[i][j])/sum_cond_proba)\n",
    "                gamma.append(responsabilities)\n",
    "\n",
    "            return gamma\n",
    "            \n",
    "\n",
    "        # TODO:\n",
    "        # initialize the parameters\n",
    "        # if initialize_ is kmeans, apply sklearn kmeans \n",
    "        # else randomly initialize them\n",
    "        \n",
    "        # While not(convergence)\n",
    "        #     Compute gamma\n",
    "        #     Update parameters\n",
    "        \n",
    "        # Update labels_\n",
    "        \n",
    "        init_labels = []\n",
    "        if self.initialization_ == 'random':\n",
    "            for x in range(X.shape[0]):\n",
    "                #we assign random label from range 0 up to K\n",
    "                init_labels.append(random.randrange(self.k_))\n",
    "        else:\n",
    "            kmeans = KMeans(n_clusters=self.k_).fit(X.reshape(-1, 1))\n",
    "            init_labels = kmeans.labels_.copy()\n",
    "            \n",
    "        #now we compute the parameters\n",
    "        mu = []\n",
    "        sigma = []\n",
    "        pi = []\n",
    "        for i in range(self.k_):\n",
    "            #for each class in the data\n",
    "            subset_data = []\n",
    "            for j in range(len(init_labels)):\n",
    "                if init_labels[j] == i:\n",
    "                    #we get the appropriate data\n",
    "                    subset_data.append(X[j])\n",
    "            #boolean_list = [True if label==i else False for label in init_labels]\n",
    "            #subset_data = list(compress(X.shape[:], boolean_list)) #getting the data whose class = i\n",
    "            mu.append(np.mean(subset_data)) #get the mean for class i\n",
    "            sigma.append(np.var(subset_data)) #get the variance for class i\n",
    "            pi.append(len(subset_data)/len(init_labels))\n",
    "        \n",
    "        gamma = compute_responsabilities(compute_condition_prob_matrix(X, mu, sigma),pi)\n",
    "        \n",
    "        number_iter = 0    \n",
    "        \n",
    "        while number_iter < self.nb_iter_:\n",
    "            \n",
    "            # first, we compute the sum of the responsabilities for each class\n",
    "            # that will be used to update pi, sigma and mu\n",
    "            sum_each_class = np.zeros(self.k_)\n",
    "            for g in gamma:\n",
    "                for i in range(self.k_):\n",
    "                    sum_each_class[i]+=g[i]\n",
    "            #print(sum_each_class)\n",
    "            \n",
    "            # updating pi\n",
    "            pi = sum_each_class/len(X)\n",
    "            \n",
    "            # updating sigma\n",
    "            sum_for_sigma = np.zeros(self.k_)\n",
    "            for i in range(len(X)):\n",
    "                for j in range(self.k_):\n",
    "                    sum_for_sigma[j] += ((X[i]-mu[j])**2)*gamma[i][j]\n",
    "            sigma = sum_for_sigma/sum_each_class\n",
    "            \n",
    "            #updating mu\n",
    "            sum_for_mu = np.zeros(self.k_)\n",
    "            for i in range(len(X)):\n",
    "                for j in range(self.k_):\n",
    "                    sum_for_mu[j] += X[i]*gamma[i][j]\n",
    "            mu = sum_for_mu/sum_each_class\n",
    "            #print(mu)\n",
    "            \n",
    "            gamma = compute_responsabilities(compute_condition_prob_matrix(X, mu, sigma),pi)\n",
    "            \n",
    "            number_iter+=1\n",
    "            if number_iter%10 == 0:\n",
    "                print('iteration n°',number_iter)\n",
    "        \n",
    "        # we are done iterating\n",
    "        # we save the parameters of the object\n",
    "        \n",
    "        self.mu_ = mu\n",
    "        self.gamma_ = gamma\n",
    "        self.sigma_ = sigma\n",
    "        self.pi_ = pi\n",
    "       \n",
    "        \n",
    "    def predict(self, X):\n",
    "        \"\"\" Predict labels for X\n",
    "        \n",
    "        Parameters:\n",
    "        -----------\n",
    "        X: (n, p) np.array\n",
    "            New data matrix\n",
    "        \n",
    "        Returns:\n",
    "        -----\n",
    "        label assigment        \n",
    "        \"\"\"\n",
    "        # TODO\n",
    "        prob_classes = [] #one line in the data matrix X\n",
    "        for i in range(self.k_):\n",
    "            proba = norm.pdf(X,self.mu_[i],np.sqrt(self.sigma_[i])) #we compute proba of x belonging to f_k\n",
    "            prob_classes.append(proba)\n",
    "        return np.argmin(prob_classes)\n",
    "        \n",
    "    def predict_proba(self, X):\n",
    "        \"\"\" Predict probability vector for X\n",
    "        \n",
    "        Parameters:\n",
    "        -----------\n",
    "        X: (n, p) np.array\n",
    "            New data matrix\n",
    "        \n",
    "        Returns:\n",
    "        -----\n",
    "        proba: (n, k) np.array        \n",
    "        \"\"\"\n",
    "        # TODO\n",
    "        prob_classes = [] #one line in the data matrix X\n",
    "        for i in range(self.k_):\n",
    "            proba = norm.pdf(X,self.mu_[i],np.sqrt(self.sigma_[i])) #we compute proba of x belonging to f_k\n",
    "            prob_classes.append(proba)\n",
    "        return prob_classes"
   ]
  },
  {
   "cell_type": "markdown",
   "metadata": {},
   "source": [
    "## Task : \n",
    "\n",
    "Apply you EM algorithm to the weights array.\n",
    "\n",
    "What is the average weight for a man ? What is the average weight for a woman ? \n",
    "What are the standard deviations ? "
   ]
  },
  {
   "cell_type": "code",
   "execution_count": 89,
   "metadata": {},
   "outputs": [
    {
     "name": "stdout",
     "output_type": "stream",
     "text": [
      "iteration n° 10\n",
      "iteration n° 20\n",
      "iteration n° 30\n",
      "iteration n° 40\n",
      "iteration n° 50\n",
      "iteration n° 60\n",
      "iteration n° 70\n",
      "iteration n° 80\n",
      "iteration n° 90\n",
      "iteration n° 100\n",
      "iteration n° 110\n",
      "iteration n° 120\n",
      "iteration n° 130\n",
      "iteration n° 140\n",
      "iteration n° 150\n",
      "iteration n° 160\n",
      "iteration n° 170\n",
      "iteration n° 180\n",
      "iteration n° 190\n",
      "iteration n° 200\n"
     ]
    }
   ],
   "source": [
    "#TODO\n",
    "GMM = my_GMM(2, 200,'kmeans')\n",
    "GMM.fit(weights)"
   ]
  },
  {
   "cell_type": "code",
   "execution_count": 90,
   "metadata": {},
   "outputs": [
    {
     "name": "stdout",
     "output_type": "stream",
     "text": [
      "average weights per group [59.82184387 78.66345749]\n",
      "average standard deviation per group [ 6.63086679 11.85033367]\n",
      "average proportion per group [0.48445475 0.51554525]\n"
     ]
    }
   ],
   "source": [
    "print('average weights per group',GMM.mu_)\n",
    "print('average standard deviation per group',np.sqrt(GMM.sigma_))\n",
    "print('average proportion per group',GMM.pi_)"
   ]
  },
  {
   "cell_type": "markdown",
   "metadata": {},
   "source": [
    "# Task :\n",
    "- Predict the sex of the persons thanks to their weight. \n",
    "- Compute the accuracy (the ground truth is the sex list)\n",
    "- Compare with the accuracy of a kmeans"
   ]
  },
  {
   "cell_type": "code",
   "execution_count": 91,
   "metadata": {},
   "outputs": [
    {
     "name": "stdout",
     "output_type": "stream",
     "text": [
      "accuracy of GMM: 0.1565\n",
      "accuracy of Kmeans: 0.84\n"
     ]
    }
   ],
   "source": [
    "true_labels = sex.copy()\n",
    "pred_labels = []\n",
    "\n",
    "#getting predictions for each weight\n",
    "for weight in weights:\n",
    "    pred_labels.append(GMM.predict(weight))\n",
    "    \n",
    "#computing accuracy\n",
    "number_correct_pred = 0\n",
    "for i in range(len(weights)):\n",
    "    if pred_labels[i] == true_labels[i]:\n",
    "        number_correct_pred+=1\n",
    "        \n",
    "print('accuracy of GMM:',number_correct_pred/len(true_labels))\n",
    "\n",
    "#getting labels from a kmeans algorithm\n",
    "kmeans = KMeans(n_clusters=GMM.k_).fit(weights.reshape(-1, 1))\n",
    "number_correct_pred = 0\n",
    "for i in range(len(weights)):\n",
    "    if kmeans.labels_[i] == true_labels[i]:\n",
    "        number_correct_pred+=1\n",
    "        \n",
    "print('accuracy of Kmeans:',number_correct_pred/len(true_labels))"
   ]
  },
  {
   "cell_type": "markdown",
   "metadata": {},
   "source": [
    "## Application - Generating Images"
   ]
  },
  {
   "cell_type": "markdown",
   "metadata": {},
   "source": [
    "The goal of this exercice is to make your computer learn how to write digits.\n",
    "\n",
    "Actually we are going to apply EM algorithm to digits and sample fake data from the model returned (i.e $p(x|\\theta)$)"
   ]
  },
  {
   "cell_type": "code",
   "execution_count": 92,
   "metadata": {
    "scrolled": true
   },
   "outputs": [
    {
     "data": {
      "image/png": "[encoded data removed]",
      "text/plain": [
       "<Figure size 720x720 with 50 Axes>"
      ]
     },
     "metadata": {},
     "output_type": "display_data"
    }
   ],
   "source": [
    "data = np.loadtxt('mnist2500_X.txt')\n",
    "\n",
    "\n",
    "import matplotlib.pyplot as plt\n",
    "from sklearn.decomposition import NMF\n",
    "\n",
    "\n",
    "def plot_digits(data):\n",
    "    fig, ax = plt.subplots(5, 10, figsize=(10, 10),\n",
    "                           subplot_kw=dict(xticks=[], yticks=[]))\n",
    "    fig.subplots_adjust(hspace=0.01, wspace=0.05)\n",
    "    for i, axi in enumerate(ax.flat):\n",
    "        im = axi.imshow(data[i].reshape(28, 28).T, cmap='binary')\n",
    "        #im.set_clim(0, )\n",
    "plot_digits(data)"
   ]
  },
  {
   "cell_type": "markdown",
   "metadata": {},
   "source": [
    "### Tasks : \n",
    "- Model your data with the GMM model from sklearn and produce new synthetic handwritten numbers. \n",
    "Use : \n",
    "https://scikit-learn.org/stable/modules/generated/sklearn.mixture.GaussianMixture.html\n",
    "\n",
    "use the .sample() method from sklearn's GaussianMixture to generate fake samples\n"
   ]
  },
  {
   "cell_type": "markdown",
   "metadata": {},
   "source": [
    "### Tasks :\n",
    "- Use a method you saw in your previous courses to reduce the dimension of our dataset.\n",
    "- Model your data with the GMM model from sklearn and produce new synthetic handwritten numbers. \n",
    "- Compare results"
   ]
  },
  {
   "cell_type": "markdown",
   "metadata": {},
   "source": [
    "For dimentionality reduction, we will use the NMF decomposition to reduce the dimentionality space from 784 (28x28) to n, where the n is the dimentionality of the reduced matrices. We will parametrize n by using the elbow method, where we will attempt to find an equilibrium between the number of components and the reconstruction error. \n",
    "\n",
    "Let's then plot the number of components by their error."
   ]
  },
  {
   "cell_type": "code",
   "execution_count": 93,
   "metadata": {},
   "outputs": [
    {
     "data": {
      "text/plain": [
       "[<matplotlib.lines.Line2D at 0x21d0b976b48>]"
      ]
     },
     "execution_count": 93,
     "metadata": {},
     "output_type": "execute_result"
    },
    {
     "data": {
      "image/png": "[encoded data removed]",
      "text/plain": [
       "<Figure size 432x288 with 1 Axes>"
      ]
     },
     "metadata": {
      "needs_background": "light"
     },
     "output_type": "display_data"
    }
   ],
   "source": [
    "n_components = np.arange(5, 46, 5)\n",
    "all_models = [NMF(n_components=n, init='random', max_iter=4000).fit(data) for n in n_components]\n",
    "errors = [model.reconstruction_err_ for model in all_models]\n",
    "plt.plot(n_components, errors)"
   ]
  },
  {
   "cell_type": "markdown",
   "metadata": {},
   "source": [
    "From our analysis, we can see that the curve is starting to flatten out. We can infer that a model with around 40 components strikes a good equilibrium between having not too many dimensions while still having a reasonable reconstruction error. "
   ]
  },
  {
   "cell_type": "code",
   "execution_count": 97,
   "metadata": {},
   "outputs": [],
   "source": [
    "model = NMF(n_components=40, init='random', max_iter=4000)\n",
    "W_nmf = model.fit_transform(data) \n",
    "H_nmf = model.components_"
   ]
  },
  {
   "cell_type": "markdown",
   "metadata": {},
   "source": [
    "Now that we have generated our data in a lower dimention (in W_nmf), we will work with scikit's GaussianMixture in order to generate a statistical model for our data that we can then sample for generating the images.\n",
    "\n",
    "We can also tune this model by the number of components, in order to try to strike the maximal amount of information from our data. We will use the AIC metric to compare these models with different parameters."
   ]
  },
  {
   "cell_type": "code",
   "execution_count": 98,
   "metadata": {},
   "outputs": [
    {
     "data": {
      "text/plain": [
       "[<matplotlib.lines.Line2D at 0x21d0e9ce788>]"
      ]
     },
     "execution_count": 98,
     "metadata": {},
     "output_type": "execute_result"
    },
    {
     "data": {
      "image/png": "[encoded data removed]",
      "text/plain": [
       "<Figure size 432x288 with 1 Axes>"
      ]
     },
     "metadata": {
      "needs_background": "light"
     },
     "output_type": "display_data"
    }
   ],
   "source": [
    "n_components = np.arange(10, 201, 10)\n",
    "all_models = [GaussianMixture(n_components=n).fit(W_nmf) for n in n_components]\n",
    "errors = [model.aic(W_nmf) for model in all_models]\n",
    "plt.plot(n_components, errors)"
   ]
  },
  {
   "cell_type": "markdown",
   "metadata": {},
   "source": [
    "Finally, we obtain the final amount of components for our Gaussian model of about 160, where the elbow ends and it finds a rather steep plateau."
   ]
  },
  {
   "cell_type": "code",
   "execution_count": 100,
   "metadata": {},
   "outputs": [
    {
     "data": {
      "text/plain": [
       "GaussianMixture(n_components=160)"
      ]
     },
     "execution_count": 100,
     "metadata": {},
     "output_type": "execute_result"
    }
   ],
   "source": [
    "from sklearn.mixture import GaussianMixture\n",
    "\n",
    "GMM = GaussianMixture(n_components=160)\n",
    "GMM.fit(W_nmf)"
   ]
  },
  {
   "cell_type": "markdown",
   "metadata": {},
   "source": [
    "For image reconstruction, we sample the Gaussian Mixture Model in order to obtain a matrix in the W space of our NMF model. We then multiply this sampled W matrix by the H."
   ]
  },
  {
   "cell_type": "code",
   "execution_count": 112,
   "metadata": {},
   "outputs": [
    {
     "data": {
      "text/plain": [
       "<matplotlib.image.AxesImage at 0x21d0e3c71c8>"
      ]
     },
     "execution_count": 112,
     "metadata": {},
     "output_type": "execute_result"
    },
    {
     "data": {
      "image/png": "[encoded data removed]",
      "text/plain": [
       "<Figure size 432x288 with 1 Axes>"
      ]
     },
     "metadata": {
      "needs_background": "light"
     },
     "output_type": "display_data"
    }
   ],
   "source": [
    "sampled_num = GMM.sample()\n",
    "reconstruct = np.matmul(sampled_num[0], H_nmf)\n",
    "plt.imshow(reconstruct.reshape(28,28).T, cmap='binary')"
   ]
  },
  {
   "cell_type": "markdown",
   "metadata": {},
   "source": [
    "Although we can see the number, we can improve this output by setting a threshold using set_clim for our output.\n",
    "\n",
    "We will run an experiment incrementing clim from 0.1 to 1 by 0.1 each time."
   ]
  },
  {
   "cell_type": "code",
   "execution_count": 115,
   "metadata": {},
   "outputs": [
    {
     "data": {
      "image/png": "[encoded data removed]",
      "text/plain": [
       "<Figure size 720x720 with 10 Axes>"
      ]
     },
     "metadata": {},
     "output_type": "display_data"
    }
   ],
   "source": [
    "fig, ax = plt.subplots(1, 10, figsize=(10, 10), subplot_kw=dict(xticks=[], yticks=[]))\n",
    "fig.subplots_adjust(hspace=0.01, wspace=0.05)\n",
    "clim_upper_bound = np.arange(0.1, 1.1, 0.1)\n",
    "\n",
    "for i, axi in enumerate(ax.flat):\n",
    "    reconstruct = np.matmul(sampled_num[0], H_nmf)\n",
    "    im = axi.imshow(reconstruct.reshape(28, 28).T, cmap='binary')\n",
    "    im.set_clim(0, clim_upper_bound[i])"
   ]
  },
  {
   "cell_type": "markdown",
   "metadata": {},
   "source": [
    "As it can be seen, choosing a clim upper bound of about 0.5 allows for a middle ground between the sharpness of the generated number, while also avoiding \"cutting off\" parts of the number.\n",
    "\n",
    "Thus, for the final result we have:"
   ]
  },
  {
   "cell_type": "code",
   "execution_count": 128,
   "metadata": {
    "scrolled": false
   },
   "outputs": [
    {
     "data": {
      "image/png": "[encoded data removed]",
      "text/plain": [
       "<Figure size 720x720 with 50 Axes>"
      ]
     },
     "metadata": {},
     "output_type": "display_data"
    }
   ],
   "source": [
    "def plot_digits(data):\n",
    "    fig, ax = plt.subplots(5, 10, figsize=(10, 10),\n",
    "                           subplot_kw=dict(xticks=[], yticks=[]))\n",
    "    fig.subplots_adjust(hspace=0.01, wspace=0.05)\n",
    "    for i, axi in enumerate(ax.flat):\n",
    "        reconstruct = np.matmul(data[i], H_nmf)\n",
    "        im = axi.imshow(reconstruct.reshape(28, 28).T, cmap='binary')\n",
    "        im.set_clim(0, 0.5)\n",
    "        \n",
    "sampled_data = GMM.sample(50)\n",
    "plot_digits(sampled_data[0])"
   ]
  },
  {
   "cell_type": "markdown",
   "metadata": {},
   "source": [
    "While the images can look noisy (since they are not, after all, the 0-1 mapping in the original data plot), the individual numbers are quite easily distinguishable. Likewise, they look like handwritten numbers with considerable variance even in the technique used for some of them (look the different angles and shapes of 3s, for example)\n",
    "\n",
    "This proves that by leveraging dimentionality reduction and gaussian mixture models, we can model and even synthesize image data successfully."
   ]
  }
 ],
 "metadata": {
  "kernelspec": {
   "display_name": "Python 3",
   "language": "python",
   "name": "python3"
  },
  "language_info": {
   "codemirror_mode": {
    "name": "ipython",
    "version": 3
   },
   "file_extension": ".py",
   "mimetype": "text/x-python",
   "name": "python",
   "nbconvert_exporter": "python",
   "pygments_lexer": "ipython3",
   "version": "3.7.4"
  }
 },
 "nbformat": 4,
 "nbformat_minor": 2
}
